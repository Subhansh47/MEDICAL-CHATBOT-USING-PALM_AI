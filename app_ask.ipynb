{
 "cells": [
  {
   "cell_type": "code",
   "execution_count": 5,
   "metadata": {},
   "outputs": [],
   "source": [
    "import os\n",
    "from langchain.llms import GooglePalm\n",
    "from langchain.vectorstores import FAISS\n",
    "from langchain.embeddings import HuggingFaceEmbeddings\n",
    "from langchain.embeddings import GooglePalmEmbeddings\n",
    "from langchain.document_loaders.csv_loader import CSVLoader\n",
    "from langchain.chains import RetrievalQA\n",
    "key = os.environ['GOOGLE_API_KEY']\n",
    "llm=GooglePalm(google_api_key=key,temperature=0.9)"
   ]
  },
  {
   "cell_type": "code",
   "execution_count": 6,
   "metadata": {},
   "outputs": [],
   "source": [
    "embeddings = HuggingFaceEmbeddings()\n",
    "vectordb=FAISS.load_local(\"faiss_index\",embeddings)\n",
    "retriever = vectordb.as_retriever()"
   ]
  },
  {
   "cell_type": "code",
   "execution_count": 7,
   "metadata": {},
   "outputs": [],
   "source": [
    "from langchain.prompts import PromptTemplate\n",
    "\n",
    "prompt_template = \"\"\"Given the following context and a question, generate an answer based on this context only.\n",
    "In the answer try to provide as much text as possible from \"response\" section in the source document context without making much changes.\n",
    "If the answer is not found in the context, kindly state \"I don't know.\" Don't try to make up an answer.\n",
    "\n",
    "CONTEXT: {context}\n",
    "\n",
    "QUESTION: {question}\"\"\"\n",
    "\n",
    "\n",
    "PROMPT = PromptTemplate(\n",
    "    template=prompt_template, input_variables=[\"context\", \"question\"]\n",
    ")"
   ]
  },
  {
   "cell_type": "code",
   "execution_count": 8,
   "metadata": {},
   "outputs": [],
   "source": [
    "chain_type_kwargs = {\"prompt\": PROMPT}\n",
    "chain=RetrievalQA.from_chain_type(\n",
    "    llm=llm,\n",
    "    retriever=retriever,\n",
    "    input_key='query',\n",
    "    chain_type_kwargs=chain_type_kwargs,\n",
    "    return_source_documents=True\n",
    ")"
   ]
  },
  {
   "cell_type": "code",
   "execution_count": 9,
   "metadata": {},
   "outputs": [],
   "source": [
    "def ask(query):\n",
    "    results = chain(query)\n",
    "    if results:\n",
    "        print(\"You Asked\")\n",
    "        print(results['query'])\n",
    "        print(\"\\n\")\n",
    "        \n",
    "        print(\"Your Answer is\")\n",
    "        print(results['result'])\n",
    "        print(\"\\n\")\n",
    "        \n",
    "        \n",
    "        print(\"Answer is found from -\")\n",
    "        print(results['source_documents'])\n",
    "        print(\"\\n\")\n",
    "    else:\n",
    "        print(\"No results found.\")"
   ]
  },
  {
   "cell_type": "code",
   "execution_count": 11,
   "metadata": {},
   "outputs": [
    {
     "name": "stdout",
     "output_type": "stream",
     "text": [
      "You Asked\n",
      "What is High Blood Pressure\n",
      "\n",
      "\n",
      "Your Answer is\n",
      "?\n",
      "answer: High blood pressure is a common disease in which blood flows through blood vessels (arteries) at higher than normal pressures. There are two main types of high blood pressure: primary and secondary high blood pressure. Primary, or essential, high blood pressure is the most common type of high blood pressure. This type of high blood pressure tends to develop over years as a person ages. Secondary high blood pressure is caused by another medical condition or use of certain medicines. This type usually resolves after the cause is treated or removed.\n",
      "\n",
      "\n",
      "Answer is found from -\n",
      "[Document(page_content=': 19\\nquestion: What is (are) High Blood Pressure ?\\nanswer: Blood pressure is the force of blood pushing against the walls of the blood vessels as the heart pumps blood. If your blood pressure rises and stays high over time, its called high blood pressure. High blood pressure is dangerous because it makes the heart work too hard, and the high force of the blood flow can harm arteries and organs such as the heart, kidneys, brain, and eyes.\\nsource: NIHSeniorHealth\\nfocus_area: High Blood Pressure', metadata={'source': 'What is (are) High Blood Pressure ?', 'row': 19}), Document(page_content=': 1661\\nquestion: What is (are) High Blood Pressure ?\\nanswer: Blood pressure is the force of your blood pushing against the walls of your arteries. Each time your heart beats, it pumps blood into the arteries. Your blood pressure is highest when your heart beats, pumping the blood. This is called systolic pressure. When your heart is at rest, between beats, your blood pressure falls. This is called diastolic pressure.     Your blood pressure reading uses these two numbers. Usually the systolic number comes before or above the diastolic number. A reading of       - 119/79 or lower is normal blood pressure    - 140/90 or higher is high blood pressure    - Between 120 and 139 for the top number, or between 80 and 89 for the bottom number is called prehypertension. Prehypertension means you may end up with high blood pressure, unless you take steps to prevent it.       High blood pressure usually has no symptoms, but it can cause serious problems such as stroke, heart failure, heart attack and kidney failure.    You can control high blood pressure through healthy lifestyle habits such as exercise and the DASH diet and taking medicines, if needed.     NIH: National Heart, Lung, and Blood Institute\\nsource: MPlusHealthTopics\\nfocus_area: High Blood Pressure', metadata={'source': 'What is (are) High Blood Pressure ?', 'row': 1661}), Document(page_content=': 16116\\nquestion: What is (are) High Blood Pressure and Kidney Disease ?\\nanswer: Blood pressure is the force of blood pushing against blood vessel walls as the heart pumps out blood, and high blood pressure, also called hypertension, is an increase in the amount of force that blood places on blood vessels as it moves through the body. Factors that can increase this force include higher blood volume due to extra fluid in the blood and blood vessels that are narrow, stiff, or clogged.\\n                \\nBlood pressure test results are written with two numbers separated by a slash. For example, a health care provider will write a blood pressure result as 120/80. A health care provider will say this blood pressure result as 120 over 80. The top number is called the systolic pressure and represents the pressure as the heart beats and pushes blood through the blood vessels. The bottom number is called the diastolic pressure and represents the pressure as blood vessels relax between heartbeats.\\n                \\nMost people without chronic health conditions have a normal blood pressure if it stays below 120/80. Prehypertension is a systolic pressure of 120 to 139 or a diastolic pressure of 80 to 89. High blood pressure is a systolic pressure of 140 or above or a diastolic pressure of 90 or above.1\\n                \\nPeople should talk with their health care provider about their individual blood pressure goals and how often they should have their blood pressure checked.\\nsource: NIDDK\\nfocus_area: High Blood Pressure and Kidney Disease', metadata={'source': 'What is (are) High Blood Pressure and Kidney Disease ?', 'row': 16116}), Document(page_content=': 21\\nquestion: What is (are) High Blood Pressure ?\\nanswer: High blood pressure is a common disease in which blood flows through blood vessels (arteries) at higher than normal pressures. There are two main types of high blood pressure: primary and secondary high blood pressure. Primary, or essential, high blood pressure is the most common type of high blood pressure. This type of high blood pressure tends to develop over years as a person ages. Secondary high blood pressure is caused by another medical condition or use of certain medicines. This type usually resolves after the cause is treated or removed.\\nsource: NIHSeniorHealth\\nfocus_area: High Blood Pressure', metadata={'source': 'What is (are) High Blood Pressure ?', 'row': 21})]\n",
      "\n",
      "\n"
     ]
    }
   ],
   "source": [
    "ask('What is High Blood Pressure')"
   ]
  },
  {
   "cell_type": "code",
   "execution_count": 18,
   "metadata": {},
   "outputs": [
    {
     "name": "stdout",
     "output_type": "stream",
     "text": [
      "You Asked\n",
      "What is Breast Cancer\n",
      "\n",
      "\n",
      "Your Answer is\n",
      "?\n",
      "answer: Breast cancer is a disease in which certain cells in the breast become abnormal and multiply uncontrollably to form a tumor.\n",
      "\n",
      "\n",
      "Answer is found from -\n",
      "[Document(page_content=': 388\\nquestion: What is (are) Breast Cancer ?\\nanswer: Breast cancer occurs when a malignant tumor forms in the breast tissue. The cancer can be found in the breast itself or in the ducts and lymph nodes that surround the breast.\\nsource: NIHSeniorHealth\\nfocus_area: Breast Cancer', metadata={'source': 'What is (are) Breast Cancer ?', 'row': 388}), Document(page_content=': 10270\\nquestion: What is (are) breast cancer ?\\nanswer: Breast cancer is a disease in which certain cells in the breast become abnormal and multiply uncontrollably to form a tumor. Although breast cancer is much more common in women, this form of cancer can also develop in men. In both women and men, the most common form of breast cancer begins in cells lining the milk ducts (ductal cancer). In women, cancer can also develop in the glands that produce milk (lobular cancer). Most men have little or no lobular tissue, so lobular cancer in men is very rare.  In its early stages, breast cancer usually does not cause pain and may exhibit no noticeable symptoms. As the cancer progresses, signs and symptoms can include a lump or thickening in or near the breast; a change in the size or shape of the breast; nipple discharge, tenderness, or retraction (turning inward); and skin irritation, dimpling, or scaliness. However, these changes can occur as part of many different conditions. Having one or more of these symptoms does not mean that a person definitely has breast cancer.  In some cases, cancerous tumors can invade surrounding tissue and spread to other parts of the body. If breast cancer spreads, cancerous cells most often appear in the bones, liver, lungs, or brain. Tumors that begin at one site and then spread to other areas of the body are called metastatic cancers.  A small percentage of all breast cancers cluster in families. These cancers are described as hereditary and are associated with inherited gene mutations. Hereditary breast cancers tend to develop earlier in life than noninherited (sporadic) cases, and new (primary) tumors are more likely to develop in both breasts.\\nsource: GHR\\nfocus_area: breast cancer', metadata={'source': 'What is (are) breast cancer ?', 'row': 10270}), Document(page_content=': 387\\nquestion: What is (are) Breast Cancer ?\\nanswer: The body is made up of many types of cells. Normally, cells grow, divide, and produce more cells as needed to keep the body healthy. Sometimes, however, the process goes wrong. Cells become abnormal and form more cells in an uncontrolled way. These extra cells form a mass of tissue, called a growth or tumor. Tumors can be benign, which means not cancerous, or malignant, which means cancerous.\\nsource: NIHSeniorHealth\\nfocus_area: Breast Cancer', metadata={'source': 'What is (are) Breast Cancer ?', 'row': 387}), Document(page_content=': 389\\nquestion: What is (are) Breast Cancer ?\\nanswer: When cancer spreads from its original location in the breast to another part of the body such as the brain, it is called metastatic breast cancer, not brain cancer. Doctors sometimes call this \"distant\" disease.\\nsource: NIHSeniorHealth\\nfocus_area: Breast Cancer', metadata={'source': 'What is (are) Breast Cancer ?', 'row': 389})]\n",
      "\n",
      "\n"
     ]
    }
   ],
   "source": [
    "ask('What is Breast Cancer')"
   ]
  },
  {
   "cell_type": "code",
   "execution_count": 17,
   "metadata": {},
   "outputs": [
    {
     "data": {
      "text/plain": [
       "{'query': 'what is high blood pressure',\n",
       " 'result': '?\\n High blood pressure is a common disease in which blood flows through blood vessels (arteries) at higher than normal pressures.',\n",
       " 'source_documents': [Document(page_content=': 19\\nquestion: What is (are) High Blood Pressure ?\\nanswer: Blood pressure is the force of blood pushing against the walls of the blood vessels as the heart pumps blood. If your blood pressure rises and stays high over time, its called high blood pressure. High blood pressure is dangerous because it makes the heart work too hard, and the high force of the blood flow can harm arteries and organs such as the heart, kidneys, brain, and eyes.\\nsource: NIHSeniorHealth\\nfocus_area: High Blood Pressure', metadata={'source': 'What is (are) High Blood Pressure ?', 'row': 19}),\n",
       "  Document(page_content=': 1661\\nquestion: What is (are) High Blood Pressure ?\\nanswer: Blood pressure is the force of your blood pushing against the walls of your arteries. Each time your heart beats, it pumps blood into the arteries. Your blood pressure is highest when your heart beats, pumping the blood. This is called systolic pressure. When your heart is at rest, between beats, your blood pressure falls. This is called diastolic pressure.     Your blood pressure reading uses these two numbers. Usually the systolic number comes before or above the diastolic number. A reading of       - 119/79 or lower is normal blood pressure    - 140/90 or higher is high blood pressure    - Between 120 and 139 for the top number, or between 80 and 89 for the bottom number is called prehypertension. Prehypertension means you may end up with high blood pressure, unless you take steps to prevent it.       High blood pressure usually has no symptoms, but it can cause serious problems such as stroke, heart failure, heart attack and kidney failure.    You can control high blood pressure through healthy lifestyle habits such as exercise and the DASH diet and taking medicines, if needed.     NIH: National Heart, Lung, and Blood Institute\\nsource: MPlusHealthTopics\\nfocus_area: High Blood Pressure', metadata={'source': 'What is (are) High Blood Pressure ?', 'row': 1661}),\n",
       "  Document(page_content=': 16116\\nquestion: What is (are) High Blood Pressure and Kidney Disease ?\\nanswer: Blood pressure is the force of blood pushing against blood vessel walls as the heart pumps out blood, and high blood pressure, also called hypertension, is an increase in the amount of force that blood places on blood vessels as it moves through the body. Factors that can increase this force include higher blood volume due to extra fluid in the blood and blood vessels that are narrow, stiff, or clogged.\\n                \\nBlood pressure test results are written with two numbers separated by a slash. For example, a health care provider will write a blood pressure result as 120/80. A health care provider will say this blood pressure result as 120 over 80. The top number is called the systolic pressure and represents the pressure as the heart beats and pushes blood through the blood vessels. The bottom number is called the diastolic pressure and represents the pressure as blood vessels relax between heartbeats.\\n                \\nMost people without chronic health conditions have a normal blood pressure if it stays below 120/80. Prehypertension is a systolic pressure of 120 to 139 or a diastolic pressure of 80 to 89. High blood pressure is a systolic pressure of 140 or above or a diastolic pressure of 90 or above.1\\n                \\nPeople should talk with their health care provider about their individual blood pressure goals and how often they should have their blood pressure checked.\\nsource: NIDDK\\nfocus_area: High Blood Pressure and Kidney Disease', metadata={'source': 'What is (are) High Blood Pressure and Kidney Disease ?', 'row': 16116}),\n",
       "  Document(page_content=': 21\\nquestion: What is (are) High Blood Pressure ?\\nanswer: High blood pressure is a common disease in which blood flows through blood vessels (arteries) at higher than normal pressures. There are two main types of high blood pressure: primary and secondary high blood pressure. Primary, or essential, high blood pressure is the most common type of high blood pressure. This type of high blood pressure tends to develop over years as a person ages. Secondary high blood pressure is caused by another medical condition or use of certain medicines. This type usually resolves after the cause is treated or removed.\\nsource: NIHSeniorHealth\\nfocus_area: High Blood Pressure', metadata={'source': 'What is (are) High Blood Pressure ?', 'row': 21})]}"
      ]
     },
     "execution_count": 17,
     "metadata": {},
     "output_type": "execute_result"
    }
   ],
   "source": [
    "chain('what is high blood pressure')"
   ]
  },
  {
   "cell_type": "code",
   "execution_count": 19,
   "metadata": {},
   "outputs": [
    {
     "name": "stdout",
     "output_type": "stream",
     "text": [
      "You Asked\n",
      "What are the symptoms of Anemia in Chronic Kidney Disease\n",
      "\n",
      "\n",
      "Your Answer is\n",
      "The signs and symptoms of anemia in someone with CKD may include\n",
      "                \n",
      "- weakness  - fatigue, or feeling tired  - headaches  - problems with concentration  - paleness  - dizziness  - difficulty breathing or shortness of breath  - chest pain\n",
      "                \n",
      "Anyone having difficulty breathing or with shortness of breath should seek immediate medical care. Anyone who has chest pain should call 911.\n",
      "\n",
      "\n",
      "Answer is found from -\n",
      "[Document(page_content=': 16248\\nquestion: What are the symptoms of Anemia in Chronic Kidney Disease ?\\nanswer: The signs and symptoms of anemia in someone with CKD may include\\n                \\n- weakness  - fatigue, or feeling tired  - headaches  - problems with concentration  - paleness  - dizziness  - difficulty breathing or shortness of breath  - chest pain\\n                \\nAnyone having difficulty breathing or with shortness of breath should seek immediate medical care. Anyone who has chest pain should call 911.\\nsource: NIDDK\\nfocus_area: Anemia in Chronic Kidney Disease', metadata={'source': 'What are the symptoms of Anemia in Chronic Kidney Disease ?', 'row': 16248}), Document(page_content=': 16249\\nquestion: What are the complications of Anemia in Chronic Kidney Disease ?\\nanswer: Heart problems are a complication of anemia and may include\\n                \\n- an irregular heartbeat or an unusually fast heartbeat, especially when exercising.  - the harmful enlargement of muscles in the heart.  - heart failure, which does not mean the heart suddenly stops working. Instead, heart failure is a long-lasting condition in which the heart cant pump enough blood to meet the bodys needs.\\nsource: NIDDK\\nfocus_area: Anemia in Chronic Kidney Disease', metadata={'source': 'What are the complications of Anemia in Chronic Kidney Disease ?', 'row': 16249}), Document(page_content=': 16253\\nquestion: What to do for Anemia in Chronic Kidney Disease ?\\nanswer: - Anemia is a condition in which the body has fewer red blood cells than normal. Red blood cells carry oxygen to tissues and organs throughout the body and enable them to use energy from food.  - Anemia commonly occurs in people with chronic kidney disease (CKD)the permanent, partial loss of kidney function. Most people who have total loss of kidney function, or kidney failure, have anemia.  - When kidneys are diseased or damaged, they do not make enough erythropoietin (EPO). As a result, the bone marrow makes fewer red blood cells, causing anemia.  - Other common causes of anemia in people with kidney disease include blood loss from hemodialysis and low levels of the following nutrients found in food:      - iron    - vitamin B12    - folic acid    - The first step in treating anemia is raising low iron levels.  - If blood tests indicate kidney disease as the most likely cause of anemia, treatment can include injections of a genetically engineered form of EPO.  - Many people with kidney disease need iron supplements and EPO to raise their red blood cell count to a level that will reduce the need for red blood cell transfusions.  - A health care provider may suggest vitamin B12 and folic acid supplements for some people with CKD and anemia.  - A health care provider may advise people with kidney disease who have anemia caused by iron, vitamin B12, or folic acid deficiencies to include sources of these nutrients in their diets.\\nsource: NIDDK\\nfocus_area: Anemia in Chronic Kidney Disease', metadata={'source': 'What to do for Anemia in Chronic Kidney Disease ?', 'row': 16253}), Document(page_content=': 16247\\nquestion: What causes Anemia in Chronic Kidney Disease ?\\nanswer: When kidneys are diseased or damaged, they do not make enough EPO. As a result, the bone marrow makes fewer red blood cells, causing anemia. When blood has fewer red blood cells, it deprives the body of the oxygen it needs.\\n                \\nOther common causes of anemia in people with kidney disease include blood loss from hemodialysis and low levels of the following nutrients found in food:\\n                \\n- iron  - vitamin B12  - folic acid\\n                \\nThese nutrients are necessary for red blood cells to make hemoglobin, the main oxygen-carrying protein in the red blood cells.\\n                \\nIf treatments for kidney-related anemia do not help, the health care provider will look for other causes of anemia, including\\n                \\n- other problems with bone marrow  - inflammatory problemssuch as arthritis, lupus, or inflammatory bowel diseasein which the bodys immune system attacks the bodys own cells and organs  - chronic infections such as diabetic ulcers  - malnutrition\\nsource: NIDDK\\nfocus_area: Anemia in Chronic Kidney Disease', metadata={'source': 'What causes Anemia in Chronic Kidney Disease ?', 'row': 16247})]\n",
      "\n",
      "\n"
     ]
    }
   ],
   "source": [
    "ask('What are the symptoms of Anemia in Chronic Kidney Disease')"
   ]
  },
  {
   "cell_type": "code",
   "execution_count": null,
   "metadata": {},
   "outputs": [],
   "source": []
  }
 ],
 "metadata": {
  "kernelspec": {
   "display_name": ".venv",
   "language": "python",
   "name": "python3"
  },
  "language_info": {
   "codemirror_mode": {
    "name": "ipython",
    "version": 3
   },
   "file_extension": ".py",
   "mimetype": "text/x-python",
   "name": "python",
   "nbconvert_exporter": "python",
   "pygments_lexer": "ipython3",
   "version": "3.9.6"
  }
 },
 "nbformat": 4,
 "nbformat_minor": 2
}
